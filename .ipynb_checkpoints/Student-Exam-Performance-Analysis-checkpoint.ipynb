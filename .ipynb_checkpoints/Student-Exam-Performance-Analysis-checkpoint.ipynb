{
 "cells": [
  {
   "cell_type": "markdown",
   "id": "2bc78967",
   "metadata": {},
   "source": [
    "# Student Exam Performance EDA\n",
    "\n",
    "The dataset consists of student exam performance records across multiple subjects."
   ]
  },
  {
   "cell_type": "markdown",
   "id": "0ded1fae",
   "metadata": {},
   "source": [
    "## Part 1: Data Cleaning and Preparation\n",
    "\n",
    "Before any analysis can be done, the data must be inspected and \"gotten familiar with.\" This will include . . .\n",
    "* Checking for missing or null values in each column\n",
    "* Checking the data types of each column\n",
    "* Changing column names as needed\n",
    "* Checking for and correcting inconsistencies in the data"
   ]
  },
  {
   "cell_type": "code",
   "execution_count": 1,
   "id": "147c719e",
   "metadata": {},
   "outputs": [],
   "source": [
    "# import packages\n",
    "\n",
    "import pandas as pd\n",
    "import numpy as np\n",
    "import matplotlib.pyplot as plt\n",
    "import seaborn as sns\n",
    "sns.set_style('darkgrid')"
   ]
  },
  {
   "cell_type": "code",
   "execution_count": 2,
   "id": "7fc93d12",
   "metadata": {},
   "outputs": [],
   "source": [
    "# read in csv\n",
    "\n",
    "df = pd.read_csv('StudentsPerformance.csv')"
   ]
  },
  {
   "cell_type": "code",
   "execution_count": 3,
   "id": "6009189c",
   "metadata": {},
   "outputs": [
    {
     "data": {
      "text/html": [
       "<div>\n",
       "<style scoped>\n",
       "    .dataframe tbody tr th:only-of-type {\n",
       "        vertical-align: middle;\n",
       "    }\n",
       "\n",
       "    .dataframe tbody tr th {\n",
       "        vertical-align: top;\n",
       "    }\n",
       "\n",
       "    .dataframe thead th {\n",
       "        text-align: right;\n",
       "    }\n",
       "</style>\n",
       "<table border=\"1\" class=\"dataframe\">\n",
       "  <thead>\n",
       "    <tr style=\"text-align: right;\">\n",
       "      <th></th>\n",
       "      <th>gender</th>\n",
       "      <th>race/ethnicity</th>\n",
       "      <th>parental level of education</th>\n",
       "      <th>lunch</th>\n",
       "      <th>test preparation course</th>\n",
       "      <th>math score</th>\n",
       "      <th>reading score</th>\n",
       "      <th>writing score</th>\n",
       "    </tr>\n",
       "  </thead>\n",
       "  <tbody>\n",
       "    <tr>\n",
       "      <th>0</th>\n",
       "      <td>female</td>\n",
       "      <td>group B</td>\n",
       "      <td>bachelor's degree</td>\n",
       "      <td>standard</td>\n",
       "      <td>none</td>\n",
       "      <td>72</td>\n",
       "      <td>72</td>\n",
       "      <td>74</td>\n",
       "    </tr>\n",
       "    <tr>\n",
       "      <th>1</th>\n",
       "      <td>female</td>\n",
       "      <td>group C</td>\n",
       "      <td>some college</td>\n",
       "      <td>standard</td>\n",
       "      <td>completed</td>\n",
       "      <td>69</td>\n",
       "      <td>90</td>\n",
       "      <td>88</td>\n",
       "    </tr>\n",
       "    <tr>\n",
       "      <th>2</th>\n",
       "      <td>female</td>\n",
       "      <td>group B</td>\n",
       "      <td>master's degree</td>\n",
       "      <td>standard</td>\n",
       "      <td>none</td>\n",
       "      <td>90</td>\n",
       "      <td>95</td>\n",
       "      <td>93</td>\n",
       "    </tr>\n",
       "    <tr>\n",
       "      <th>3</th>\n",
       "      <td>male</td>\n",
       "      <td>group A</td>\n",
       "      <td>associate's degree</td>\n",
       "      <td>free/reduced</td>\n",
       "      <td>none</td>\n",
       "      <td>47</td>\n",
       "      <td>57</td>\n",
       "      <td>44</td>\n",
       "    </tr>\n",
       "    <tr>\n",
       "      <th>4</th>\n",
       "      <td>male</td>\n",
       "      <td>group C</td>\n",
       "      <td>some college</td>\n",
       "      <td>standard</td>\n",
       "      <td>none</td>\n",
       "      <td>76</td>\n",
       "      <td>78</td>\n",
       "      <td>75</td>\n",
       "    </tr>\n",
       "  </tbody>\n",
       "</table>\n",
       "</div>"
      ],
      "text/plain": [
       "   gender race/ethnicity parental level of education         lunch  \\\n",
       "0  female        group B           bachelor's degree      standard   \n",
       "1  female        group C                some college      standard   \n",
       "2  female        group B             master's degree      standard   \n",
       "3    male        group A          associate's degree  free/reduced   \n",
       "4    male        group C                some college      standard   \n",
       "\n",
       "  test preparation course  math score  reading score  writing score  \n",
       "0                    none          72             72             74  \n",
       "1               completed          69             90             88  \n",
       "2                    none          90             95             93  \n",
       "3                    none          47             57             44  \n",
       "4                    none          76             78             75  "
      ]
     },
     "execution_count": 3,
     "metadata": {},
     "output_type": "execute_result"
    }
   ],
   "source": [
    "# examine the first 5 rows\n",
    "\n",
    "df.head()"
   ]
  },
  {
   "cell_type": "markdown",
   "id": "80492104",
   "metadata": {},
   "source": [
    "The columns are . . .\n",
    "* `gender`: Is the student male or female?\n",
    "* `race/ethnicity`: The race/ethnicity of the student, expressed by breaking the different races into groups with a corresponding letter.\n",
    "* `parental level of education`: The highest level of education achieved by the parent of each student.\n",
    "* `lunch`: Which type of lunch does the student receive at school?\n",
    "* `test preparation course`: Did the student complete a test prep course before taking the exam?\n",
    "* `math score`: The student's exam score on the math exam.\n",
    "* `reading score`: The student's exam score on the reading exam.\n",
    "* `writing score`: The student's exam score on the writing exam."
   ]
  },
  {
   "cell_type": "code",
   "execution_count": 4,
   "id": "40762c1a",
   "metadata": {},
   "outputs": [
    {
     "name": "stdout",
     "output_type": "stream",
     "text": [
      "<class 'pandas.core.frame.DataFrame'>\n",
      "RangeIndex: 1000 entries, 0 to 999\n",
      "Data columns (total 8 columns):\n",
      " #   Column                       Non-Null Count  Dtype \n",
      "---  ------                       --------------  ----- \n",
      " 0   gender                       1000 non-null   object\n",
      " 1   race/ethnicity               1000 non-null   object\n",
      " 2   parental level of education  1000 non-null   object\n",
      " 3   lunch                        1000 non-null   object\n",
      " 4   test preparation course      1000 non-null   object\n",
      " 5   math score                   1000 non-null   int64 \n",
      " 6   reading score                1000 non-null   int64 \n",
      " 7   writing score                1000 non-null   int64 \n",
      "dtypes: int64(3), object(5)\n",
      "memory usage: 62.6+ KB\n"
     ]
    }
   ],
   "source": [
    "# exploring the data types and seeing if any of the values are null\n",
    "\n",
    "df.info()"
   ]
  },
  {
   "cell_type": "markdown",
   "id": "2b737e92",
   "metadata": {},
   "source": [
    "None of the rows have missing/null values. The data types for each column are correct, though `parental level of education` could be changed to an ordered category."
   ]
  },
  {
   "cell_type": "code",
   "execution_count": 5,
   "id": "3ded32a8",
   "metadata": {},
   "outputs": [
    {
     "data": {
      "text/html": [
       "<div>\n",
       "<style scoped>\n",
       "    .dataframe tbody tr th:only-of-type {\n",
       "        vertical-align: middle;\n",
       "    }\n",
       "\n",
       "    .dataframe tbody tr th {\n",
       "        vertical-align: top;\n",
       "    }\n",
       "\n",
       "    .dataframe thead th {\n",
       "        text-align: right;\n",
       "    }\n",
       "</style>\n",
       "<table border=\"1\" class=\"dataframe\">\n",
       "  <thead>\n",
       "    <tr style=\"text-align: right;\">\n",
       "      <th></th>\n",
       "      <th>gender</th>\n",
       "      <th>race</th>\n",
       "      <th>parent_edu</th>\n",
       "      <th>lunch</th>\n",
       "      <th>test_prep</th>\n",
       "      <th>math_score</th>\n",
       "      <th>reading_score</th>\n",
       "      <th>writing_score</th>\n",
       "    </tr>\n",
       "  </thead>\n",
       "  <tbody>\n",
       "    <tr>\n",
       "      <th>0</th>\n",
       "      <td>female</td>\n",
       "      <td>group B</td>\n",
       "      <td>bachelor's degree</td>\n",
       "      <td>standard</td>\n",
       "      <td>none</td>\n",
       "      <td>72</td>\n",
       "      <td>72</td>\n",
       "      <td>74</td>\n",
       "    </tr>\n",
       "    <tr>\n",
       "      <th>1</th>\n",
       "      <td>female</td>\n",
       "      <td>group C</td>\n",
       "      <td>some college</td>\n",
       "      <td>standard</td>\n",
       "      <td>completed</td>\n",
       "      <td>69</td>\n",
       "      <td>90</td>\n",
       "      <td>88</td>\n",
       "    </tr>\n",
       "    <tr>\n",
       "      <th>2</th>\n",
       "      <td>female</td>\n",
       "      <td>group B</td>\n",
       "      <td>master's degree</td>\n",
       "      <td>standard</td>\n",
       "      <td>none</td>\n",
       "      <td>90</td>\n",
       "      <td>95</td>\n",
       "      <td>93</td>\n",
       "    </tr>\n",
       "    <tr>\n",
       "      <th>3</th>\n",
       "      <td>male</td>\n",
       "      <td>group A</td>\n",
       "      <td>associate's degree</td>\n",
       "      <td>free/reduced</td>\n",
       "      <td>none</td>\n",
       "      <td>47</td>\n",
       "      <td>57</td>\n",
       "      <td>44</td>\n",
       "    </tr>\n",
       "    <tr>\n",
       "      <th>4</th>\n",
       "      <td>male</td>\n",
       "      <td>group C</td>\n",
       "      <td>some college</td>\n",
       "      <td>standard</td>\n",
       "      <td>none</td>\n",
       "      <td>76</td>\n",
       "      <td>78</td>\n",
       "      <td>75</td>\n",
       "    </tr>\n",
       "  </tbody>\n",
       "</table>\n",
       "</div>"
      ],
      "text/plain": [
       "   gender     race          parent_edu         lunch  test_prep  math_score  \\\n",
       "0  female  group B   bachelor's degree      standard       none          72   \n",
       "1  female  group C        some college      standard  completed          69   \n",
       "2  female  group B     master's degree      standard       none          90   \n",
       "3    male  group A  associate's degree  free/reduced       none          47   \n",
       "4    male  group C        some college      standard       none          76   \n",
       "\n",
       "   reading_score  writing_score  \n",
       "0             72             74  \n",
       "1             90             88  \n",
       "2             95             93  \n",
       "3             57             44  \n",
       "4             78             75  "
      ]
     },
     "execution_count": 5,
     "metadata": {},
     "output_type": "execute_result"
    }
   ],
   "source": [
    "# cleaning up column names\n",
    "\n",
    "df = df.rename(columns={'race/ethnicity': 'race',\n",
    "                       'parental level of education' : 'parent_edu',\n",
    "                       'test preparation course' : 'test_prep',\n",
    "                       'math score' : 'math_score',\n",
    "                       'reading score' : 'reading_score',\n",
    "                       'writing score' : 'writing_score'})\n",
    "\n",
    "df.head()"
   ]
  },
  {
   "cell_type": "code",
   "execution_count": 6,
   "id": "9459e229",
   "metadata": {},
   "outputs": [
    {
     "name": "stdout",
     "output_type": "stream",
     "text": [
      "UNIQUE VALUES BY COLUMN\n",
      "\n",
      "['female' 'male']\n",
      "['group B' 'group C' 'group A' 'group D' 'group E']\n",
      "[\"bachelor's degree\" 'some college' \"master's degree\" \"associate's degree\"\n",
      " 'high school' 'some high school']\n",
      "['standard' 'free/reduced']\n",
      "['none' 'completed']\n"
     ]
    }
   ],
   "source": [
    "# what are the distinct entries in each column?\n",
    "# particularly interested in the columns containing strings\n",
    "\n",
    "print('UNIQUE VALUES BY COLUMN\\n')\n",
    "print(df.gender.unique())\n",
    "print(df.race.unique())\n",
    "print(df.parent_edu.unique())\n",
    "print(df.lunch.unique())\n",
    "print(df.test_prep.unique())"
   ]
  },
  {
   "cell_type": "markdown",
   "id": "d0dc93c2",
   "metadata": {},
   "source": [
    "There are no inconsistencies in the entries for each column (no capitalization, spelling, or other errors). I personally would like to rename the entries in the `race` column to just be the letter corresponding with the group. I also would prefer if the `test_prep` column simply displayed 'yes' or 'no'."
   ]
  },
  {
   "cell_type": "code",
   "execution_count": 7,
   "id": "80605aa1",
   "metadata": {},
   "outputs": [
    {
     "name": "stdout",
     "output_type": "stream",
     "text": [
      "['B' 'C' 'A' 'D' 'E']\n"
     ]
    },
    {
     "data": {
      "text/html": [
       "<div>\n",
       "<style scoped>\n",
       "    .dataframe tbody tr th:only-of-type {\n",
       "        vertical-align: middle;\n",
       "    }\n",
       "\n",
       "    .dataframe tbody tr th {\n",
       "        vertical-align: top;\n",
       "    }\n",
       "\n",
       "    .dataframe thead th {\n",
       "        text-align: right;\n",
       "    }\n",
       "</style>\n",
       "<table border=\"1\" class=\"dataframe\">\n",
       "  <thead>\n",
       "    <tr style=\"text-align: right;\">\n",
       "      <th></th>\n",
       "      <th>gender</th>\n",
       "      <th>race</th>\n",
       "      <th>parent_edu</th>\n",
       "      <th>lunch</th>\n",
       "      <th>test_prep</th>\n",
       "      <th>math_score</th>\n",
       "      <th>reading_score</th>\n",
       "      <th>writing_score</th>\n",
       "    </tr>\n",
       "  </thead>\n",
       "  <tbody>\n",
       "    <tr>\n",
       "      <th>0</th>\n",
       "      <td>female</td>\n",
       "      <td>B</td>\n",
       "      <td>bachelor's degree</td>\n",
       "      <td>standard</td>\n",
       "      <td>no</td>\n",
       "      <td>72</td>\n",
       "      <td>72</td>\n",
       "      <td>74</td>\n",
       "    </tr>\n",
       "    <tr>\n",
       "      <th>1</th>\n",
       "      <td>female</td>\n",
       "      <td>C</td>\n",
       "      <td>some college</td>\n",
       "      <td>standard</td>\n",
       "      <td>yes</td>\n",
       "      <td>69</td>\n",
       "      <td>90</td>\n",
       "      <td>88</td>\n",
       "    </tr>\n",
       "    <tr>\n",
       "      <th>2</th>\n",
       "      <td>female</td>\n",
       "      <td>B</td>\n",
       "      <td>master's degree</td>\n",
       "      <td>standard</td>\n",
       "      <td>no</td>\n",
       "      <td>90</td>\n",
       "      <td>95</td>\n",
       "      <td>93</td>\n",
       "    </tr>\n",
       "    <tr>\n",
       "      <th>3</th>\n",
       "      <td>male</td>\n",
       "      <td>A</td>\n",
       "      <td>associate's degree</td>\n",
       "      <td>free/reduced</td>\n",
       "      <td>no</td>\n",
       "      <td>47</td>\n",
       "      <td>57</td>\n",
       "      <td>44</td>\n",
       "    </tr>\n",
       "    <tr>\n",
       "      <th>4</th>\n",
       "      <td>male</td>\n",
       "      <td>C</td>\n",
       "      <td>some college</td>\n",
       "      <td>standard</td>\n",
       "      <td>no</td>\n",
       "      <td>76</td>\n",
       "      <td>78</td>\n",
       "      <td>75</td>\n",
       "    </tr>\n",
       "  </tbody>\n",
       "</table>\n",
       "</div>"
      ],
      "text/plain": [
       "   gender race          parent_edu         lunch test_prep  math_score  \\\n",
       "0  female    B   bachelor's degree      standard        no          72   \n",
       "1  female    C        some college      standard       yes          69   \n",
       "2  female    B     master's degree      standard        no          90   \n",
       "3    male    A  associate's degree  free/reduced        no          47   \n",
       "4    male    C        some college      standard        no          76   \n",
       "\n",
       "   reading_score  writing_score  \n",
       "0             72             74  \n",
       "1             90             88  \n",
       "2             95             93  \n",
       "3             57             44  \n",
       "4             78             75  "
      ]
     },
     "execution_count": 7,
     "metadata": {},
     "output_type": "execute_result"
    }
   ],
   "source": [
    "# rename values in race column with just the letter\n",
    "\n",
    "df = df.replace('group A', 'A')\n",
    "df = df.replace('group B', 'B')\n",
    "df = df.replace('group C', 'C')\n",
    "df = df.replace('group D', 'D')\n",
    "df = df.replace('group E', 'E')\n",
    "\n",
    "# rename values in test_prep with yes or no\n",
    "\n",
    "df = df.replace('none', 'no')\n",
    "df = df.replace('completed', 'yes')\n",
    "\n",
    "print(df.race.unique())\n",
    "df.head()"
   ]
  },
  {
   "cell_type": "code",
   "execution_count": 8,
   "id": "5c1c294a",
   "metadata": {},
   "outputs": [
    {
     "data": {
      "text/plain": [
       "['some high school', 'high school', 'some college', 'associate's degree', 'bachelor's degree', 'master's degree']\n",
       "Categories (6, object): ['some high school' < 'high school' < 'some college' < 'associate's degree' < 'bachelor's degree' < 'master's degree']"
      ]
     },
     "execution_count": 8,
     "metadata": {},
     "output_type": "execute_result"
    }
   ],
   "source": [
    "# changing the data type of parent_edu to an ordered category\n",
    "\n",
    "order = ['some high school',\n",
    "         'high school',\n",
    "         'some college',\n",
    "         \"associate's degree\",\n",
    "         \"bachelor's degree\",\n",
    "         \"master's degree\"]\n",
    "\n",
    "df.parent_edu = df.parent_edu.astype('category')\n",
    "df.parent_edu = df.parent_edu.cat.set_categories(order, ordered=True)\n",
    "\n",
    "df.parent_edu.unique().sort_values()"
   ]
  },
  {
   "cell_type": "code",
   "execution_count": 9,
   "id": "2d125686",
   "metadata": {},
   "outputs": [
    {
     "name": "stdout",
     "output_type": "stream",
     "text": [
      "count    1000.00000\n",
      "mean       66.08900\n",
      "std        15.16308\n",
      "min         0.00000\n",
      "25%        57.00000\n",
      "50%        66.00000\n",
      "75%        77.00000\n",
      "max       100.00000\n",
      "Name: math_score, dtype: float64\n",
      "\n",
      "count    1000.000000\n",
      "mean       69.169000\n",
      "std        14.600192\n",
      "min        17.000000\n",
      "25%        59.000000\n",
      "50%        70.000000\n",
      "75%        79.000000\n",
      "max       100.000000\n",
      "Name: reading_score, dtype: float64\n",
      "\n",
      "count    1000.000000\n",
      "mean       68.054000\n",
      "std        15.195657\n",
      "min        10.000000\n",
      "25%        57.750000\n",
      "50%        69.000000\n",
      "75%        79.000000\n",
      "max       100.000000\n",
      "Name: writing_score, dtype: float64\n"
     ]
    }
   ],
   "source": [
    "# checking the summary stats\n",
    "# to see if any exam scores are strange\n",
    "\n",
    "print(df.math_score.describe())\n",
    "print('')\n",
    "print(df.reading_score.describe())\n",
    "print('')\n",
    "print(df.writing_score.describe())"
   ]
  },
  {
   "cell_type": "markdown",
   "id": "8ef03b0c",
   "metadata": {},
   "source": [
    "None of the scores appear to be too extreme, or out of bounds. The max of 100 for all of the scores checks out. At least one student received a 0 on the math test, which may be correct, but could indicate a data entry error."
   ]
  }
 ],
 "metadata": {
  "kernelspec": {
   "display_name": "Python 3 (ipykernel)",
   "language": "python",
   "name": "python3"
  },
  "language_info": {
   "codemirror_mode": {
    "name": "ipython",
    "version": 3
   },
   "file_extension": ".py",
   "mimetype": "text/x-python",
   "name": "python",
   "nbconvert_exporter": "python",
   "pygments_lexer": "ipython3",
   "version": "3.9.13"
  }
 },
 "nbformat": 4,
 "nbformat_minor": 5
}
