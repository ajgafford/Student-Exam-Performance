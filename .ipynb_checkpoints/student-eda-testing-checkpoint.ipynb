{
 "cells": [
  {
   "cell_type": "code",
   "execution_count": null,
   "id": "22f967df",
   "metadata": {},
   "outputs": [],
   "source": [
    "# histograms of student reading exam scores\n",
    "\n",
    "sns.displot(df, x='reading_score', kde=True, color='#F8CC0F', bins=10)\n",
    "plt.title('Distribution of Student Reading Scores')\n",
    "plt.xlabel('Reading Scores')\n",
    "plt.show()\n",
    "plt.clf()"
   ]
  },
  {
   "cell_type": "code",
   "execution_count": null,
   "id": "2604a42b",
   "metadata": {},
   "outputs": [],
   "source": [
    "# histograms of student writing exam scores\n",
    "\n",
    "sns.displot(df, x='writing_score', kde=True, color='#0FF81F', bins=10)\n",
    "plt.title('Distribution of Student Reading Scores')\n",
    "plt.xlabel('Reading Scores')\n",
    "plt.show()\n",
    "plt.clf()"
   ]
  },
  {
   "cell_type": "code",
   "execution_count": null,
   "id": "24950774",
   "metadata": {},
   "outputs": [],
   "source": [
    "sns.displot(x='math_score', hue='parent_deg', data=df, kde=True, stat='density', alpha=0.25)\n",
    "plt.show()\n",
    "plt.clf()"
   ]
  },
  {
   "cell_type": "code",
   "execution_count": null,
   "id": "262a0d0f",
   "metadata": {},
   "outputs": [],
   "source": [
    "sns.displot(x='reading_score', hue='parent_deg', data=df, kde=True, stat='density', alpha=0.25)\n",
    "plt.show()\n",
    "plt.clf()"
   ]
  },
  {
   "cell_type": "code",
   "execution_count": null,
   "id": "49f3c1a8",
   "metadata": {},
   "outputs": [],
   "source": [
    "sns.displot(x='writing_score', hue='parent_deg', data=df, kde=True, stat='density', alpha=0.25)\n",
    "plt.axvline(x=df.writing_score[df.parent_deg == 'no college degree'].median(), color='orange', alpha=0.5)\n",
    "plt.axvline(x=df.writing_score[df.parent_deg == 'college degree'].median(), color='blue', alpha=0.5)\n",
    "\n",
    "plt.show()\n",
    "plt.clf()"
   ]
  },
  {
   "cell_type": "code",
   "execution_count": null,
   "id": "7eda3eec",
   "metadata": {},
   "outputs": [],
   "source": [
    "sns.histplot(x='writing_score', data=df, hue='test_prep', kde=True, stat='density')\n",
    "plt.axvline(x=df.writing_score[df.test_prep == 'yes'].mean(), color='orange', alpha=0.5)\n",
    "plt.axvline(x=df.writing_score[df.test_prep == 'no'].mean(), color='blue', alpha=0.5)\n",
    "plt.show()\n",
    "plt.clf()"
   ]
  },
  {
   "cell_type": "code",
   "execution_count": null,
   "id": "d298fd71",
   "metadata": {},
   "outputs": [],
   "source": [
    "# create a bar chart to display\n",
    "# the number of students\n",
    "# by different lunch plans\n",
    "# and parent's college degree\n",
    "\n",
    "ax = sns.countplot(x='parent_deg', hue='lunch', data=df)\n",
    "plt.xlabel('Does the Parent have a College Degree?')\n",
    "plt.ylabel('Count')\n",
    "ax.bar_label(ax.containers[0])\n",
    "ax.bar_label(ax.containers[1])\n",
    "plt.show()\n",
    "plt.clf()"
   ]
  },
  {
   "cell_type": "code",
   "execution_count": null,
   "id": "010bec26",
   "metadata": {},
   "outputs": [],
   "source": [
    "# create a bar plot to display\n",
    "# the number of students\n",
    "# by parent's college degree\n",
    "# and if they completed a test prep course\n",
    "\n",
    "ax = sns.countplot(x='parent_deg', hue='test_prep', data=df)\n",
    "plt.xlabel('Does the Parent have a College Degree?')\n",
    "plt.ylabel('Count')\n",
    "ax.bar_label(ax.containers[0])\n",
    "ax.bar_label(ax.containers[1])\n",
    "plt.show()\n",
    "plt.clf()"
   ]
  },
  {
   "cell_type": "code",
   "execution_count": null,
   "id": "1368bda7",
   "metadata": {},
   "outputs": [],
   "source": [
    "# create a bar plot to display\n",
    "# the number of students\n",
    "# by parent's college degree\n",
    "# and if they completed a test prep course\n",
    "\n",
    "ax = sns.countplot(x='parent_deg', hue='test_prep', data=df)\n",
    "plt.xlabel('Does the Parent have a College Degree?')\n",
    "plt.ylabel('Count')\n",
    "ax.bar_label(ax.containers[0])\n",
    "ax.bar_label(ax.containers[1])\n",
    "plt.show()\n",
    "plt.clf()"
   ]
  },
  {
   "cell_type": "code",
   "execution_count": null,
   "id": "9b9554bf",
   "metadata": {},
   "outputs": [],
   "source": [
    "print('Math Scores (Completed Test Prep)')\n",
    "print(df.math_score[df.test_prep == 'yes'].describe())\n",
    "print('\\nMath Scores (Did Not Complete Test Prep)')\n",
    "print(df.math_score[df.test_prep == 'no'].describe())\n",
    "\n",
    "print('\\nReading Scores (Completed Test Prep)')\n",
    "print(df.reading_score[df.test_prep == 'yes'].describe())\n",
    "print('\\nReading Scores (Did Not Complete Test Prep)')\n",
    "print(df.reading_score[df.test_prep == 'no'].describe())\n",
    "\n",
    "print('\\nWriting Scores (Completed Test Prep)')\n",
    "print(df.writing_score[df.test_prep == 'yes'].describe())\n",
    "print('\\nWriting Scores (Did Not Complete Test Prep)')\n",
    "print(df.writing_score[df.test_prep == 'no'].describe())"
   ]
  },
  {
   "cell_type": "code",
   "execution_count": null,
   "id": "0337f8de",
   "metadata": {},
   "outputs": [],
   "source": [
    "# create a bar chart to display\n",
    "# the number of males and females\n",
    "\n",
    "ax = sns.countplot(x='gender', data=df)\n",
    "plt.xlabel('Gender')\n",
    "plt.ylabel('Count')\n",
    "plt.title('Student Gender Counts', fontweight='bold')\n",
    "ax.bar_label(ax.containers[0])\n",
    "plt.show()\n",
    "plt.clf()"
   ]
  },
  {
   "cell_type": "code",
   "execution_count": null,
   "id": "9a339307",
   "metadata": {},
   "outputs": [],
   "source": [
    "# create a bar chart to display\n",
    "# the numbers of races by group\n",
    "\n",
    "ax = sns.countplot(x='race', data=df, order=['A', 'B', 'C', 'D', 'E'])\n",
    "plt.xlabel('Race')\n",
    "plt.ylabel('Count')\n",
    "plt.title('Student Race Counts', fontweight='bold')\n",
    "ax.bar_label(ax.containers[0])\n",
    "plt.show()\n",
    "plt.clf()"
   ]
  },
  {
   "cell_type": "code",
   "execution_count": null,
   "id": "52bdfd88",
   "metadata": {},
   "outputs": [],
   "source": [
    "# create a bar chart to display\n",
    "# the numbers of parental education types\n",
    "\n",
    "ax = sns.countplot(x='parent_edu', data=df)\n",
    "plt.xlabel('Highest Education Level of Parent')\n",
    "plt.ylabel('Count')\n",
    "plt.title('Parental Education Counts', fontweight='bold')\n",
    "plt.xticks(rotation=30, ha='right')\n",
    "ax.bar_label(ax.containers[0])\n",
    "plt.show()\n",
    "plt.clf()"
   ]
  },
  {
   "cell_type": "code",
   "execution_count": null,
   "id": "a5de2302",
   "metadata": {},
   "outputs": [],
   "source": [
    "# create a bar chart to display\n",
    "# the numbers of students\n",
    "# with parents by college degree\n",
    "\n",
    "ax = sns.countplot(x='parent_deg', data=df)\n",
    "plt.xlabel('Does the Parent have a College Degree?')\n",
    "plt.ylabel('Count')\n",
    "plt.title('Parental Degree Counts', fontweight='bold')\n",
    "ax.bar_label(ax.containers[0])\n",
    "plt.show()\n",
    "plt.clf()"
   ]
  },
  {
   "cell_type": "code",
   "execution_count": null,
   "id": "3a4eff15",
   "metadata": {},
   "outputs": [],
   "source": [
    "# create a bar plot to display\n",
    "# the number of students\n",
    "# by if they completed a test prep course\n",
    "\n",
    "ax = sns.countplot(x='test_prep', data=df)\n",
    "plt.xlabel('Test Prep Course Completed?')\n",
    "plt.ylabel('Count')\n",
    "plt.title('Student Test Prep Courses', fontweight='bold')\n",
    "ax.bar_label(ax.containers[0])\n",
    "plt.show()\n",
    "plt.clf()"
   ]
  },
  {
   "cell_type": "code",
   "execution_count": null,
   "id": "94c460f6",
   "metadata": {},
   "outputs": [],
   "source": [
    "# Find the mean and median exam score\n",
    "\n",
    "mean_math_score = df.math_score.mean()\n",
    "med_math_score = df.math_score.median()\n",
    "\n",
    "mean_reading_score = df.reading_score.mean()\n",
    "med_reading_score = df.reading_score.median()\n",
    "\n",
    "mean_writing_score = df.writing_score.mean()\n",
    "med_writing_score = df.writing_score.median()\n",
    "\n",
    "mean_total_score = df.total_score.mean()\n",
    "med_total_score = df.total_score.median()\n",
    "\n",
    "print('Mean Math Score: {}'.format(round(mean_math_score, 2)))\n",
    "print('Median Math Score: {}\\n'.format(round(med_math_score, 2)))\n",
    "\n",
    "print('Mean Reading Score: {}'.format(round(mean_reading_score, 2)))\n",
    "print('Median Reading Score: {}\\n'.format(round(med_reading_score, 2)))\n",
    "\n",
    "print('Mean Writing Score: {}'.format(round(mean_writing_score, 2)))\n",
    "print('Median Writing Score: {}\\n'.format(round(med_writing_score, 2)))\n",
    "\n",
    "print('Mean Total Score: {}'.format(round(mean_total_score, 2)))\n",
    "print('Median Total Score: {}\\n'.format(round(med_total_score, 2)))"
   ]
  },
  {
   "cell_type": "code",
   "execution_count": null,
   "id": "06ac4cd2",
   "metadata": {},
   "outputs": [],
   "source": [
    "g = sns.PairGrid(df, vars=['math_score', 'reading_score', 'writing_score', 'total_score'], hue='test_prep')\n",
    "g.map_diag(sns.histplot)\n",
    "g.map_offdiag(sns.scatterplot)"
   ]
  }
 ],
 "metadata": {
  "kernelspec": {
   "display_name": "Python 3 (ipykernel)",
   "language": "python",
   "name": "python3"
  },
  "language_info": {
   "codemirror_mode": {
    "name": "ipython",
    "version": 3
   },
   "file_extension": ".py",
   "mimetype": "text/x-python",
   "name": "python",
   "nbconvert_exporter": "python",
   "pygments_lexer": "ipython3",
   "version": "3.9.13"
  }
 },
 "nbformat": 4,
 "nbformat_minor": 5
}
